{
  "nbformat": 4,
  "nbformat_minor": 0,
  "metadata": {
    "colab": {
      "name": "Point_Lie_Inside_Circle.ipynb",
      "provenance": [],
      "collapsed_sections": [],
      "toc_visible": true,
      "authorship_tag": "ABX9TyNRK6o7ziN8b3MsoEc27Csc",
      "include_colab_link": true
    },
    "kernelspec": {
      "name": "python3",
      "display_name": "Python 3"
    },
    "language_info": {
      "name": "python"
    }
  },
  "cells": [
    {
      "cell_type": "markdown",
      "metadata": {
        "id": "view-in-github",
        "colab_type": "text"
      },
      "source": [
        "<a href=\"https://colab.research.google.com/github/SandKrish/Maths_With_Python/blob/main/Point_Lie_Inside_Circle.ipynb\" target=\"_parent\"><img src=\"https://colab.research.google.com/assets/colab-badge.svg\" alt=\"Open In Colab\"/></a>"
      ]
    },
    {
      "cell_type": "markdown",
      "source": [
        "This code finds if a set of points lies inside a circle with radius 2.\n"
      ],
      "metadata": {
        "id": "VwSigAzsFFyz"
      }
    },
    {
      "cell_type": "markdown",
      "source": [
        "Number of Points = 4\n",
        "\n",
        "Points, P = [(0,1),(-5,6),(4,3),(3,-7)]"
      ],
      "metadata": {
        "id": "igL6szeIFWll"
      }
    },
    {
      "cell_type": "markdown",
      "source": [
        "Let us assume radius is r.\n",
        "If a point (xp,yp) lies inside the circle with center (xc,yc), then the distance between point and circle should be less than radius.\n",
        "\n",
        "(xp - xc) * (xp - xc) + (yp - yc) * (yp - yc) < r * r"
      ],
      "metadata": {
        "id": "L7gTXLUGtEND"
      }
    },
    {
      "cell_type": "markdown",
      "source": [
        "If the points lies on circumference then the distance will be equal to r.\n",
        "(xp - xc) * (xp - xc) + (yp - yc) * (yp - yc) < r * r\n",
        "\n",
        "So if all the points are lying on same circle  then the distance between point and ceter should be less than or equal to r.\n",
        "\n",
        "(xp - xc) * (xp - xc) + (yp - yc) * (yp - yc) <= r * r"
      ],
      "metadata": {
        "id": "9SXbFOgnuNxn"
      }
    },
    {
      "cell_type": "markdown",
      "source": [
        "Here I am assuming center as (1,1) and radius as 2.\n"
      ],
      "metadata": {
        "id": "XT8U98u7wHud"
      }
    },
    {
      "cell_type": "code",
      "source": [
        "P = [(0,1),(-5,6),(4,3),(3,-7)]"
      ],
      "metadata": {
        "id": "-vfpblX_1uVF"
      },
      "execution_count": 1,
      "outputs": []
    },
    {
      "cell_type": "code",
      "source": [
        "def check_pts(xp,yp):\n",
        "     \n",
        "    if ((xp - 1) * (xp - 1) + (yp - 1) * (yp - 1) <= 2 * 2):\n",
        "        print('(',xp,',',yp,')', \" Inside Circle with radius 2\")\n",
        "        \n",
        "    else:\n",
        "        print('(',xp,',',yp,')', \"Not Inside Circle with radius 2\")"
      ],
      "metadata": {
        "id": "-5gXLfkvwelG"
      },
      "execution_count": 2,
      "outputs": []
    },
    {
      "cell_type": "code",
      "source": [
        "for q in P:\n",
        "    check_pts(q[0],q[1]) "
      ],
      "metadata": {
        "colab": {
          "base_uri": "https://localhost:8080/"
        },
        "id": "5Rjvfk6ss-i-",
        "outputId": "905f44c6-0ae6-4ce9-f71f-1954356bcc21"
      },
      "execution_count": 3,
      "outputs": [
        {
          "output_type": "stream",
          "name": "stdout",
          "text": [
            "( 0 , 1 )  Inside Circle with radius 2\n",
            "( -5 , 6 ) Not Inside Circle with radius 2\n",
            "( 4 , 3 ) Not Inside Circle with radius 2\n",
            "( 3 , -7 ) Not Inside Circle with radius 2\n"
          ]
        }
      ]
    }
  ]
}