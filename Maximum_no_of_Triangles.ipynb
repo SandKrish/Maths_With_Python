{
  "nbformat": 4,
  "nbformat_minor": 0,
  "metadata": {
    "colab": {
      "name": "Maximum_no:of_Triangles.ipynb",
      "provenance": [],
      "collapsed_sections": [],
      "authorship_tag": "ABX9TyPRvmYVIwd/PlcmIvJ48fk3",
      "include_colab_link": true
    },
    "kernelspec": {
      "name": "python3",
      "display_name": "Python 3"
    },
    "language_info": {
      "name": "python"
    }
  },
  "cells": [
    {
      "cell_type": "markdown",
      "metadata": {
        "id": "view-in-github",
        "colab_type": "text"
      },
      "source": [
        "<a href=\"https://colab.research.google.com/github/SandKrish/Maths_With_Python/blob/main/Maximum_no_of_Triangles.ipynb\" target=\"_parent\"><img src=\"https://colab.research.google.com/assets/colab-badge.svg\" alt=\"Open In Colab\"/></a>"
      ]
    },
    {
      "cell_type": "markdown",
      "source": [
        "Number of Triangles that can be created with below points."
      ],
      "metadata": {
        "id": "-GXnNGX9GEAe"
      }
    },
    {
      "cell_type": "code",
      "execution_count": null,
      "metadata": {
        "colab": {
          "base_uri": "https://localhost:8080/"
        },
        "id": "N064vH3rkcg5",
        "outputId": "9f2ea766-5f7a-4e5e-8ff0-b0b363fb6e4e"
      },
      "outputs": [
        {
          "output_type": "execute_result",
          "data": {
            "text/plain": [
              "7"
            ]
          },
          "metadata": {},
          "execution_count": 7
        }
      ],
      "source": [
        "Point = [(1,0),(2,-7),(8,1),(9,-6),(8,2),(7,-7),(8,-7)]\n",
        "n = len(Point) \n",
        "n"
      ]
    },
    {
      "cell_type": "markdown",
      "source": [
        "Assuming triangle coordinate are (x1,y1), (x2,y2), (x3,y3) and (x4,y4)"
      ],
      "metadata": {
        "id": "znX0Woe8k_O7"
      }
    },
    {
      "cell_type": "code",
      "source": [
        "def det(x1, y1, x2, y2, x3, y3): \n",
        "    return (x1 * (y2 - y3) - y1 * \n",
        "            (x2 - x3) + 1 * (x2 *\n",
        "             y3 - y2 * x3)) \n",
        "  \n",
        "def countPoints(Point, n): \n",
        "  \n",
        "    result = 0 \n",
        "    for i in range(n): \n",
        "        for j in range(i + 1, n): \n",
        "            for k in range(j + 1, n): \n",
        "                if(det(Point[i][0], Point[i][1],  \n",
        "                       Point[j][0], Point[j][1],  \n",
        "                       Point[k][0], Point[k][1])): \n",
        "                    result = result + 1\n",
        "  \n",
        "    return result   \n",
        "  "
      ],
      "metadata": {
        "id": "U181uMZHlgw7"
      },
      "execution_count": null,
      "outputs": []
    },
    {
      "cell_type": "code",
      "source": [
        "print('Number of triangles can be create from above point is ', countPoints(Point,n))"
      ],
      "metadata": {
        "colab": {
          "base_uri": "https://localhost:8080/"
        },
        "id": "gwubI3C0nS0o",
        "outputId": "0808978a-1abe-4944-a79c-a14d064782a0"
      },
      "execution_count": null,
      "outputs": [
        {
          "output_type": "stream",
          "name": "stdout",
          "text": [
            "Number of triangles can be create from above point is  33\n"
          ]
        }
      ]
    }
  ]
}